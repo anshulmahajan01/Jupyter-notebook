{
 "cells": [
  {
   "cell_type": "code",
   "execution_count": 1,
   "metadata": {},
   "outputs": [
    {
     "data": {
      "text/html": [
       "<script>requirejs.config({paths: { 'plotly': ['https://cdn.plot.ly/plotly-latest.min']},});if(!window.Plotly) {{require(['plotly'],function(plotly) {window.Plotly=plotly;});}}</script>"
      ],
      "text/vnd.plotly.v1+html": [
       "<script>requirejs.config({paths: { 'plotly': ['https://cdn.plot.ly/plotly-latest.min']},});if(!window.Plotly) {{require(['plotly'],function(plotly) {window.Plotly=plotly;});}}</script>"
      ]
     },
     "metadata": {},
     "output_type": "display_data"
    }
   ],
   "source": [
    "import numpy as np \n",
    "import pandas as pd \n",
    "import sys\n",
    "from pandas import Series,DataFrame\n",
    "from sklearn.linear_model import LinearRegression\n",
    "\n",
    "import quandl\n",
    "\n",
    "from bqplot import pyplot as plt\n",
    "import os\n",
    "\n",
    "import cufflinks as cf\n",
    "\n",
    "import plotly as py \n",
    "import plotly.tools as tls\n",
    "import plotly.graph_objs as go\n",
    "import ipywidgets as widgets \n",
    "from scipy import special\n",
    "\n",
    "py.offline.init_notebook_mode(connected = True)\n",
    "\n",
    "import bokeh\n",
    "\n",
    "import time\n",
    "import urllib\n",
    "import matplotlib.dates as mdates\n",
    "\n",
    "\n",
    "import csv\n",
    "\n",
    "from math import pi\n",
    "from numpy import random\n",
    "from numpy.random import randn\n",
    "\n",
    "from io import StringIO\n",
    "from matplotlib.pyplot import *\n",
    "from scipy import stats\n",
    "from pandas_datareader import DataReader\n",
    "from datetime import datetime\n",
    "from __future__ import division\n",
    "\n",
    "import matplotlib as mpl\n",
    "import matplotlib.pyplot as plt \n",
    "import seaborn as sns\n",
    "sns.set_style('whitegrid')\n",
    "\n",
    "\n",
    "\n",
    "%matplotlib inline"
   ]
  },
  {
   "cell_type": "code",
   "execution_count": 1,
   "metadata": {},
   "outputs": [
    {
     "ename": "ModuleNotFoundError",
     "evalue": "No module named 'hdbscan'",
     "output_type": "error",
     "traceback": [
      "\u001b[1;31m---------------------------------------------------------------------------\u001b[0m",
      "\u001b[1;31mModuleNotFoundError\u001b[0m                       Traceback (most recent call last)",
      "\u001b[1;32m<ipython-input-1-f5b93284b875>\u001b[0m in \u001b[0;36m<module>\u001b[1;34m()\u001b[0m\n\u001b[0;32m      4\u001b[0m \u001b[1;32mimport\u001b[0m \u001b[0mmatplotlib\u001b[0m\u001b[1;33m.\u001b[0m\u001b[0mpyplot\u001b[0m \u001b[1;32mas\u001b[0m \u001b[0mplt\u001b[0m\u001b[1;33m\u001b[0m\u001b[0m\n\u001b[0;32m      5\u001b[0m \u001b[1;32mimport\u001b[0m \u001b[0mwarnings\u001b[0m\u001b[1;33m\u001b[0m\u001b[0m\n\u001b[1;32m----> 6\u001b[1;33m \u001b[1;32mimport\u001b[0m \u001b[0mhdbscan\u001b[0m\u001b[1;33m\u001b[0m\u001b[0m\n\u001b[0m\u001b[0;32m      7\u001b[0m \u001b[1;33m\u001b[0m\u001b[0m\n\u001b[0;32m      8\u001b[0m \u001b[1;32mfrom\u001b[0m \u001b[0mcollections\u001b[0m \u001b[1;32mimport\u001b[0m \u001b[0mCounter\u001b[0m\u001b[1;33m\u001b[0m\u001b[0m\n",
      "\u001b[1;31mModuleNotFoundError\u001b[0m: No module named 'hdbscan'"
     ]
    }
   ],
   "source": [
    "import numpy as np\n",
    "import pandas as pd\n",
    "import networkx as nx\n",
    "import matplotlib.pyplot as plt\n",
    "import warnings\n",
    "import hdbscan\n",
    "\n",
    "from collections import Counter\n",
    "from bokeh.io import output_notebook, show\n",
    "from bokeh.models import Range1d\n",
    "from scipy.stats import gaussian_kde, anderson, skew, kurtosis, gamma, entropy\n",
    "from itertools import zip_longest, count, cycle\n",
    "from helpers import block_heatmap, scatter_with_hover, plot_histogram, counter_histogram, bar_color\n",
    "from sklearn.preprocessing import MinMaxScaler, StandardScaler\n",
    "from sklearn.decomposition import FastICA, PCA\n",
    "from sklearn.manifold import MDS, TSNE\n",
    "from statsmodels.distributions.empirical_distribution import ECDF\n",
    "from ipywidgets import interact\n",
    "from matplotlib.colors import ListedColormap"
   ]
  },
  {
   "cell_type": "code",
   "execution_count": null,
   "metadata": {},
   "outputs": [],
   "source": [
    "val df1 = sc.textFile(\"quotes.txt\")"
   ]
  },
  {
   "cell_type": "code",
   "execution_count": 2,
   "metadata": {},
   "outputs": [],
   "source": [
    "x = [1,2,3,4,5,6,7]\n",
    "y = [50,51,52,47,48,46,45]"
   ]
  },
  {
   "cell_type": "code",
   "execution_count": 18,
   "metadata": {},
   "outputs": [
    {
     "data": {
      "text/plain": [
       "[<matplotlib.lines.Line2D at 0x1c8afa76f98>]"
      ]
     },
     "execution_count": 18,
     "metadata": {},
     "output_type": "execute_result"
    },
    {
     "data": {
      "image/png": "[encoded data removed]",
      "text/plain": [
       "<matplotlib.figure.Figure at 0x1c8afa40710>"
      ]
     },
     "metadata": {},
     "output_type": "display_data"
    }
   ],
   "source": [
    "plt.plot(x , y , 'rD--' , alpha = 0.5)"
   ]
  },
  {
   "cell_type": "code",
   "execution_count": 9,
   "metadata": {},
   "outputs": [
    {
     "data": {
      "text/plain": [
       "[<matplotlib.lines.Line2D at 0x1c8ae6366a0>]"
      ]
     },
     "execution_count": 9,
     "metadata": {},
     "output_type": "execute_result"
    },
    {
     "data": {
      "image/png": "[encoded data removed]",
      "text/plain": [
       "<matplotlib.figure.Figure at 0x1c8ae636748>"
      ]
     },
     "metadata": {},
     "output_type": "display_data"
    }
   ],
   "source": [
    "plt.xlabel('Day')\n",
    "plt.ylabel('Temperature')\n",
    "plt.title('Weather') \n",
    "plt.plot(x,y , color = 'green' , linewidth = 5 , linestyle = 'dotted')"
   ]
  },
  {
   "cell_type": "code",
   "execution_count": 4,
   "metadata": {},
   "outputs": [
    {
     "ename": "ModuleNotFoundError",
     "evalue": "No module named 'pandas.datareader'",
     "output_type": "error",
     "traceback": [
      "\u001b[1;31m---------------------------------------------------------------------------\u001b[0m",
      "\u001b[1;31mModuleNotFoundError\u001b[0m                       Traceback (most recent call last)",
      "\u001b[1;32m<ipython-input-4-1bbd574acdaf>\u001b[0m in \u001b[0;36m<module>\u001b[1;34m()\u001b[0m\n\u001b[1;32m----> 1\u001b[1;33m \u001b[1;32mimport\u001b[0m \u001b[0mpandas\u001b[0m\u001b[1;33m.\u001b[0m\u001b[0mdatareader\u001b[0m\u001b[1;33m.\u001b[0m\u001b[0mdata\u001b[0m \u001b[1;32mas\u001b[0m \u001b[0mweb\u001b[0m\u001b[1;33m\u001b[0m\u001b[0m\n\u001b[0m\u001b[0;32m      2\u001b[0m \u001b[1;32mimport\u001b[0m \u001b[0mdatetime\u001b[0m\u001b[1;33m\u001b[0m\u001b[0m\n\u001b[0;32m      3\u001b[0m \u001b[1;33m\u001b[0m\u001b[0m\n\u001b[0;32m      4\u001b[0m \u001b[0mstart\u001b[0m \u001b[1;33m=\u001b[0m \u001b[0mdatetime\u001b[0m\u001b[1;33m.\u001b[0m\u001b[0mdatetime\u001b[0m\u001b[1;33m(\u001b[0m\u001b[1;36m2015\u001b[0m\u001b[1;33m,\u001b[0m\u001b[1;36m1\u001b[0m\u001b[1;33m,\u001b[0m\u001b[1;36m1\u001b[0m\u001b[1;33m)\u001b[0m\u001b[1;33m\u001b[0m\u001b[0m\n\u001b[0;32m      5\u001b[0m \u001b[0mend\u001b[0m \u001b[1;33m=\u001b[0m \u001b[0mdatetime\u001b[0m\u001b[1;33m.\u001b[0m\u001b[0mdatetime\u001b[0m\u001b[1;33m(\u001b[0m\u001b[1;36m2018\u001b[0m\u001b[1;33m,\u001b[0m\u001b[1;36m2\u001b[0m\u001b[1;33m,\u001b[0m\u001b[1;36m8\u001b[0m\u001b[1;33m)\u001b[0m\u001b[1;33m\u001b[0m\u001b[0m\n",
      "\u001b[1;31mModuleNotFoundError\u001b[0m: No module named 'pandas.datareader'"
     ]
    }
   ],
   "source": [
    "import pandas.datareader.data as web\n",
    "import datetime \n",
    "\n",
    "start = datetime.datetime(2015,1,1)\n",
    "end = datetime.datetime(2018,2,8)\n",
    "\n",
    "df = web.DataReader('TSLA' , 'google',start ,end)\n",
    "\n",
    "print(df.head())"
   ]
  },
  {
   "cell_type": "code",
   "execution_count": 8,
   "metadata": {
    "collapsed": true
   },
   "outputs": [
    {
     "name": "stdout",
     "output_type": "stream",
     "text": [
      "              Open    High     Low    Last  Volume  Open Interest\n",
      "Date                                                             \n",
      "2005-01-03  321.00  321.00  321.00  321.00     0.0            0.0\n",
      "2005-01-04  318.00  318.00  318.00  318.00     0.0            0.0\n",
      "2005-01-05  319.25  319.25  319.25  319.25     0.0            0.0\n",
      "2005-01-06  328.00  328.00  328.00  328.00     0.0            0.0\n",
      "2005-01-07  328.00  329.50  328.00  329.50     0.0            0.0\n",
      "2005-01-10  327.50  327.50  327.50  327.50     0.0            0.0\n",
      "2005-01-11  326.00  326.00  326.00  326.00     0.0           14.0\n",
      "2005-01-12  326.00  326.00  326.00  326.00     0.0           14.0\n",
      "2005-01-13  328.00  328.00  328.00  328.00     0.0           14.0\n",
      "2005-01-14  323.75  323.75  323.75  323.75     0.0           14.0\n",
      "2005-01-18  323.00  323.00  323.00  323.00     0.0           14.0\n",
      "2005-01-19  325.25  325.25  325.25  325.25     1.0           15.0\n",
      "2005-01-20  325.75  325.75  324.00  324.00     2.0           14.0\n",
      "2005-01-21  322.50  322.50  322.50  322.50     0.0           14.0\n",
      "2005-01-24  318.50  318.50  318.50  318.50     0.0           14.0\n",
      "2005-01-25  317.75  317.75  317.75  317.75     0.0           14.0\n",
      "2005-01-26  316.00  316.00  316.00  316.00     0.0           14.0\n",
      "2005-01-27  314.00  314.00  314.00  314.00     0.0           14.0\n",
      "2005-01-28  314.00  314.00  314.00  314.00     0.0           14.0\n",
      "2005-01-31  314.00  314.00  314.00  314.00     0.0            0.0\n",
      "2005-02-01  307.50  307.50  307.50  307.50     0.0            8.0\n",
      "2005-02-02  307.50  307.50  307.50  307.50     0.0            8.0\n",
      "2005-02-03  307.50  307.50  307.50  307.50     0.0            8.0\n",
      "2005-02-04  307.50  307.50  307.50  307.50     0.0            8.0\n",
      "2005-02-07  307.50  307.50  307.50  307.50     0.0            8.0\n",
      "2005-02-08  310.50  310.50  310.50  310.50     0.0            8.0\n",
      "2005-02-09  310.00  310.00  310.00  310.00     0.0            8.0\n",
      "2005-02-10  314.50  314.50  314.50  314.50     0.0            8.0\n",
      "2005-02-11  314.50  314.50  314.50  314.50     0.0            8.0\n",
      "2005-02-14  314.50  314.50  314.50  314.50     0.0            8.0\n",
      "...            ...     ...     ...     ...     ...            ...\n",
      "2018-03-19     NaN  460.00  460.00  460.00     0.0            0.0\n",
      "2018-03-20     NaN  450.00  450.00  450.00     0.0            0.0\n",
      "2018-03-21     NaN  445.00  445.00  445.00     0.0            0.0\n",
      "2018-03-22     NaN  446.00  446.00  446.00     0.0            0.0\n",
      "2018-03-23     NaN  447.00  447.00  447.00     0.0            0.0\n",
      "2018-03-26     NaN  439.00  439.00  439.00     0.0            0.0\n",
      "2018-03-27     NaN  434.00  434.00  434.00     0.0            0.0\n",
      "2018-03-28     NaN  431.00  431.00  431.00     0.0            0.0\n",
      "2018-03-29     NaN  441.00  441.00  441.00     0.0            0.0\n",
      "2018-04-02     NaN  441.00  441.00  441.00     0.0            0.0\n",
      "2018-04-03     NaN  450.00  450.00  450.00     0.0            0.0\n",
      "2018-04-04     NaN  450.00  450.00  450.00     0.0            0.0\n",
      "2018-04-05     NaN  460.00  460.00  460.00     0.0            0.0\n",
      "2018-04-06     NaN  463.00  463.00  463.00     0.0            0.0\n",
      "2018-04-09     NaN  479.00  479.00  479.00     0.0            0.0\n",
      "2018-04-10     NaN  479.00  479.00  479.00     0.0            0.0\n",
      "2018-04-11     NaN  479.00  479.00  479.00     0.0            0.0\n",
      "2018-04-12     NaN  479.00  479.00  479.00     0.0            0.0\n",
      "2018-04-13     NaN  469.00  469.00  469.00     0.0            0.0\n",
      "2018-04-17     NaN  454.00  454.00  454.00     0.0            0.0\n",
      "2018-04-18     NaN  458.00  458.00  458.00     0.0            0.0\n",
      "2018-04-19     NaN  464.00  464.00  464.00     0.0            0.0\n",
      "2018-04-20     NaN  456.00  456.00  456.00     0.0            0.0\n",
      "2018-04-23     NaN  456.00  456.00  456.00     0.0            0.0\n",
      "2018-04-24     NaN  456.00  456.00  456.00     0.0            0.0\n",
      "2018-04-25     NaN  464.00  464.00  464.00     0.0            0.0\n",
      "2018-04-26     NaN  464.00  464.00  464.00     0.0            0.0\n",
      "2018-04-27     NaN  474.00  474.00  474.00     0.0            0.0\n",
      "2018-04-30     NaN  486.00  486.00  486.00     0.0            0.0\n",
      "2019-04-30     NaN  486.00  486.00  486.00     0.0            0.0\n",
      "\n",
      "[3302 rows x 6 columns]\n"
     ]
    }
   ],
   "source": [
    "dataset1 = quandl.get(\"CHRIS/MGEX_IH1\")\n",
    "print(dataset1)\n",
    "    \n"
   ]
  },
  {
   "cell_type": "code",
   "execution_count": 11,
   "metadata": {},
   "outputs": [
    {
     "name": "stdout",
     "output_type": "stream",
     "text": [
      "this\n"
     ]
    }
   ],
   "source": [
    "import json \n",
    "\n",
    "myjson = '''\n",
    "{\n",
    "\"status\" : \"ok\",\n",
    "\n",
    "\"source\" : \"this\",\n",
    "\n",
    "\"value\" : \"uid\"\n",
    "}\n",
    "'''\n",
    "\n",
    "\n",
    "a = json.loads(myjson)\n",
    "print(a[\"source\"])"
   ]
  },
  {
   "cell_type": "code",
   "execution_count": null,
   "metadata": {},
   "outputs": [],
   "source": []
  }
 ],
 "metadata": {
  "kernelspec": {
   "display_name": "Python 3",
   "language": "python",
   "name": "python3"
  },
  "language_info": {
   "codemirror_mode": {
    "name": "ipython",
    "version": 3
   },
   "file_extension": ".py",
   "mimetype": "text/x-python",
   "name": "python",
   "nbconvert_exporter": "python",
   "pygments_lexer": "ipython3",
   "version": "3.6.3"
  }
 },
 "nbformat": 4,
 "nbformat_minor": 2
}
