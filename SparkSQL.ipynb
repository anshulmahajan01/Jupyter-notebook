{
 "cells": [
  {
   "cell_type": "code",
   "execution_count": 5,
   "metadata": {
    "scrolled": true
   },
   "outputs": [],
   "source": [
    "import numpy as np \n",
    "import pandas as pd \n",
    "import sys\n",
    "from pandas import Series,DataFrame\n",
    "from sklearn.linear_model import LinearRegression\n",
    "\n",
    "from bqplot import pyplot as plt\n",
    "\n",
    "import bokeh\n",
    "\n",
    "import time\n",
    "import urllib\n",
    "import matplotlib.dates as mdates\n",
    "\n",
    "\n",
    "import csv\n",
    "\n",
    "from math import pi\n",
    "from numpy import random\n",
    "from numpy.random import randn\n",
    "\n",
    "from io import StringIO\n",
    "from matplotlib.pyplot import *\n",
    "from scipy import stats\n",
    "from pandas_datareader import DataReader\n",
    "from datetime import datetime\n",
    "from __future__ import division\n",
    "\n",
    "import matplotlib as mpl\n",
    "import matplotlib.pyplot as plt \n",
    "import seaborn as sns\n",
    "sns.set_style('whitegrid')\n",
    "\n",
    "\n",
    "%config SQL.conn_name = 'spark'\n",
    "%matplotlib inline\n",
    "\n",
    "sc = SparkContext.getOrCreate()\n",
    "\n",
    "from pyspark import SparkContext , SparkConf\n",
    "from pyspark.sql import SQLContext , HiveContext\n",
    "\n",
    "\n",
    "\n",
    "from pyspark.sql import HiveContext\n",
    "SQLContext = HiveContext\n"
   ]
  },
  {
   "cell_type": "code",
   "execution_count": 2,
   "metadata": {},
   "outputs": [
    {
     "ename": "NameError",
     "evalue": "name 'sqlContext' is not defined",
     "output_type": "error",
     "traceback": [
      "\u001b[1;31m---------------------------------------------------------------------------\u001b[0m",
      "\u001b[1;31mNameError\u001b[0m                                 Traceback (most recent call last)",
      "\u001b[1;32m<ipython-input-2-692f19d36044>\u001b[0m in \u001b[0;36m<module>\u001b[1;34m()\u001b[0m\n\u001b[1;32m----> 1\u001b[1;33m \u001b[0mdf\u001b[0m \u001b[1;33m=\u001b[0m \u001b[0msqlContext\u001b[0m\u001b[1;33m.\u001b[0m\u001b[0mread\u001b[0m\u001b[1;33m.\u001b[0m\u001b[0mformat\u001b[0m\u001b[1;33m(\u001b[0m\u001b[1;34m\"uber-data.csv\"\u001b[0m\u001b[1;33m)\u001b[0m\u001b[1;33m.\u001b[0m\u001b[0moptions\u001b[0m\u001b[1;33m(\u001b[0m\u001b[0mheader\u001b[0m \u001b[1;33m=\u001b[0m \u001b[1;34m'True'\u001b[0m \u001b[1;33m,\u001b[0m \u001b[0minferschema\u001b[0m \u001b[1;33m=\u001b[0m \u001b[1;34m'true'\u001b[0m\u001b[1;33m)\u001b[0m\u001b[1;33m\u001b[0m\u001b[0m\n\u001b[0m",
      "\u001b[1;31mNameError\u001b[0m: name 'sqlContext' is not defined"
     ]
    }
   ],
   "source": [
    "df = sqlContext.read.format(\"uber-data.csv\").options(header = 'True' , inferschema = 'true')"
   ]
  },
  {
   "cell_type": "code",
   "execution_count": 5,
   "metadata": {},
   "outputs": [
    {
     "name": "stdout",
     "output_type": "stream",
     "text": [
      "+--------------------+\n",
      "|     _corrupt_record|\n",
      "+--------------------+\n",
      "|                   {|\n",
      "|           \"quiz\": {|\n",
      "|          \"sport\": {|\n",
      "|             \"q1\": {|\n",
      "|                \"...|\n",
      "|                \"...|\n",
      "|                 ...|\n",
      "|                 ...|\n",
      "|                 ...|\n",
      "|                 ...|\n",
      "|                  ],|\n",
      "|                \"...|\n",
      "|                   }|\n",
      "|                  },|\n",
      "|          \"maths\": {|\n",
      "|             \"q1\": {|\n",
      "|                \"...|\n",
      "|                \"...|\n",
      "|                 ...|\n",
      "|                 ...|\n",
      "+--------------------+\n",
      "only showing top 20 rows\n",
      "\n"
     ]
    }
   ],
   "source": [
    "exampleDF = sqlContext.read.json(\"example_2.json\")\n",
    "exampleDF.show()"
   ]
  },
  {
   "cell_type": "code",
   "execution_count": 6,
   "metadata": {},
   "outputs": [
    {
     "name": "stdout",
     "output_type": "stream",
     "text": [
      "+--------------------+\n",
      "|     _corrupt_record|\n",
      "+--------------------+\n",
      "|                   {|\n",
      "|          \"meta\" : {|\n",
      "|          \"view\" : {|\n",
      "|      \"id\" : \"9a8...|\n",
      "|      \"name\" : \"R...|\n",
      "|      \"attributio...|\n",
      "|      \"attributio...|\n",
      "|      \"averageRat...|\n",
      "|      \"category\" ...|\n",
      "|      \"createdAt\"...|\n",
      "|      \"descriptio...|\n",
      "|      \"displayTyp...|\n",
      "|      \"downloadCo...|\n",
      "|      \"indexUpdat...|\n",
      "|      \"newBackend...|\n",
      "|      \"numberOfCo...|\n",
      "|      \"oid\" : 900...|\n",
      "|      \"publicatio...|\n",
      "|      \"publicatio...|\n",
      "|      \"publicatio...|\n",
      "+--------------------+\n",
      "only showing top 20 rows\n",
      "\n"
     ]
    }
   ],
   "source": [
    "retailDF = sqlContext.read.json(\"retail_food_markets.json\")\n",
    "retailDF.show()"
   ]
  },
  {
   "cell_type": "code",
   "execution_count": 9,
   "metadata": {},
   "outputs": [
    {
     "name": "stdout",
     "output_type": "stream",
     "text": [
      "root\n",
      " |-- _corrupt_record: string (nullable = true)\n",
      "\n"
     ]
    }
   ],
   "source": [
    "retailDF.printSchema()"
   ]
  },
  {
   "cell_type": "code",
   "execution_count": 15,
   "metadata": {},
   "outputs": [
    {
     "ename": "NameError",
     "evalue": "name 'pyspark' is not defined",
     "output_type": "error",
     "traceback": [
      "\u001b[1;31m---------------------------------------------------------------------------\u001b[0m",
      "\u001b[1;31mNameError\u001b[0m                                 Traceback (most recent call last)",
      "\u001b[1;32m<ipython-input-15-2c088ab3e661>\u001b[0m in \u001b[0;36m<module>\u001b[1;34m()\u001b[0m\n\u001b[0;32m      2\u001b[0m            {'name' : 'Enginnering' , 'id' : \"200\"}]\n\u001b[0;32m      3\u001b[0m \u001b[1;33m\u001b[0m\u001b[0m\n\u001b[1;32m----> 4\u001b[1;33m \u001b[0mdeptDf\u001b[0m \u001b[1;33m=\u001b[0m \u001b[0mpyspark\u001b[0m\u001b[1;33m.\u001b[0m\u001b[0msql\u001b[0m\u001b[1;33m.\u001b[0m\u001b[0mRow\u001b[0m\u001b[1;33m(\u001b[0m\u001b[0mdeptList\u001b[0m\u001b[1;33m)\u001b[0m\u001b[1;33m\u001b[0m\u001b[0m\n\u001b[0m",
      "\u001b[1;31mNameError\u001b[0m: name 'pyspark' is not defined"
     ]
    }
   ],
   "source": [
    "deptList = [{'name' : 'Sales' , 'id' : \"100\"} ,\n",
    "           {'name' : 'Enginnering' , 'id' : \"200\"}]\n",
    "\n",
    "deptDf = pyspark.sql.Row(deptList)"
   ]
  },
  {
   "cell_type": "code",
   "execution_count": 9,
   "metadata": {},
   "outputs": [
    {
     "ename": "ModuleNotFoundError",
     "evalue": "No module named 'thrift'",
     "output_type": "error",
     "traceback": [
      "\u001b[1;31m---------------------------------------------------------------------------\u001b[0m",
      "\u001b[1;31mModuleNotFoundError\u001b[0m                       Traceback (most recent call last)",
      "\u001b[1;32m<ipython-input-9-b4e4f4bd2549>\u001b[0m in \u001b[0;36m<module>\u001b[1;34m()\u001b[0m\n\u001b[0;32m      8\u001b[0m \u001b[0mhive_context\u001b[0m \u001b[1;33m=\u001b[0m \u001b[0mHiveContext\u001b[0m\u001b[1;33m(\u001b[0m\u001b[0msc\u001b[0m\u001b[1;33m)\u001b[0m\u001b[1;33m\u001b[0m\u001b[0m\n\u001b[0;32m      9\u001b[0m \u001b[1;33m\u001b[0m\u001b[0m\n\u001b[1;32m---> 10\u001b[1;33m \u001b[1;32mfrom\u001b[0m \u001b[0mpyhive\u001b[0m \u001b[1;32mimport\u001b[0m \u001b[0mhive\u001b[0m\u001b[1;33m\u001b[0m\u001b[0m\n\u001b[0m\u001b[0;32m     11\u001b[0m \u001b[0mconn\u001b[0m \u001b[1;33m=\u001b[0m \u001b[0mhive\u001b[0m\u001b[1;33m.\u001b[0m\u001b[0mConnection\u001b[0m\u001b[1;33m(\u001b[0m \u001b[0mhost\u001b[0m \u001b[1;33m=\u001b[0m \u001b[1;34m\"YOUR_hIVE_HOST\"\u001b[0m \u001b[1;33m,\u001b[0m \u001b[0mport\u001b[0m\u001b[1;33m=\u001b[0m\u001b[0mPORT\u001b[0m \u001b[1;33m,\u001b[0m \u001b[0musername\u001b[0m \u001b[1;33m=\u001b[0m \u001b[1;34m\"YOU\"\u001b[0m \u001b[1;33m)\u001b[0m\u001b[1;33m\u001b[0m\u001b[0m\n",
      "\u001b[1;32mc:\\users\\user\\anaconda3\\lib\\site-packages\\pyhive\\hive.py\u001b[0m in \u001b[0;36m<module>\u001b[1;34m()\u001b[0m\n\u001b[0;32m      8\u001b[0m \u001b[1;32mfrom\u001b[0m \u001b[0m__future__\u001b[0m \u001b[1;32mimport\u001b[0m \u001b[0mabsolute_import\u001b[0m\u001b[1;33m\u001b[0m\u001b[0m\n\u001b[0;32m      9\u001b[0m \u001b[1;32mfrom\u001b[0m \u001b[0m__future__\u001b[0m \u001b[1;32mimport\u001b[0m \u001b[0municode_literals\u001b[0m\u001b[1;33m\u001b[0m\u001b[0m\n\u001b[1;32m---> 10\u001b[1;33m \u001b[1;32mfrom\u001b[0m \u001b[0mTCLIService\u001b[0m \u001b[1;32mimport\u001b[0m \u001b[0mTCLIService\u001b[0m\u001b[1;33m\u001b[0m\u001b[0m\n\u001b[0m\u001b[0;32m     11\u001b[0m \u001b[1;32mfrom\u001b[0m \u001b[0mTCLIService\u001b[0m \u001b[1;32mimport\u001b[0m \u001b[0mconstants\u001b[0m\u001b[1;33m\u001b[0m\u001b[0m\n\u001b[0;32m     12\u001b[0m \u001b[1;32mfrom\u001b[0m \u001b[0mTCLIService\u001b[0m \u001b[1;32mimport\u001b[0m \u001b[0mttypes\u001b[0m\u001b[1;33m\u001b[0m\u001b[0m\n",
      "\u001b[1;32mc:\\users\\user\\anaconda3\\lib\\site-packages\\TCLIService\\TCLIService.py\u001b[0m in \u001b[0;36m<module>\u001b[1;34m()\u001b[0m\n\u001b[0;32m      7\u001b[0m \u001b[1;31m#\u001b[0m\u001b[1;33m\u001b[0m\u001b[1;33m\u001b[0m\u001b[0m\n\u001b[0;32m      8\u001b[0m \u001b[1;33m\u001b[0m\u001b[0m\n\u001b[1;32m----> 9\u001b[1;33m \u001b[1;32mfrom\u001b[0m \u001b[0mthrift\u001b[0m\u001b[1;33m.\u001b[0m\u001b[0mThrift\u001b[0m \u001b[1;32mimport\u001b[0m \u001b[0mTType\u001b[0m\u001b[1;33m,\u001b[0m \u001b[0mTMessageType\u001b[0m\u001b[1;33m,\u001b[0m \u001b[0mTFrozenDict\u001b[0m\u001b[1;33m,\u001b[0m \u001b[0mTException\u001b[0m\u001b[1;33m,\u001b[0m \u001b[0mTApplicationException\u001b[0m\u001b[1;33m\u001b[0m\u001b[0m\n\u001b[0m\u001b[0;32m     10\u001b[0m \u001b[1;32mfrom\u001b[0m \u001b[0mthrift\u001b[0m\u001b[1;33m.\u001b[0m\u001b[0mprotocol\u001b[0m\u001b[1;33m.\u001b[0m\u001b[0mTProtocol\u001b[0m \u001b[1;32mimport\u001b[0m \u001b[0mTProtocolException\u001b[0m\u001b[1;33m\u001b[0m\u001b[0m\n\u001b[0;32m     11\u001b[0m \u001b[1;32mimport\u001b[0m \u001b[0msys\u001b[0m\u001b[1;33m\u001b[0m\u001b[0m\n",
      "\u001b[1;31mModuleNotFoundError\u001b[0m: No module named 'thrift'"
     ]
    }
   ],
   "source": [
    "from pyspark.sql import HiveContext\n",
    "hive_context = HiveContext(sc)\n",
    "\n",
    "from pyhive import hive \n",
    "conn = hive.Connection( host = \"YOUR_hIVE_HOST\" , port=PORT , username = \"YOU\" )"
   ]
  },
  {
   "cell_type": "code",
   "execution_count": 3,
   "metadata": {},
   "outputs": [
    {
     "name": "stdout",
     "output_type": "stream",
     "text": [
      "Number of random points: 1000000\n",
      "Mean: [ 0.00059407 -0.00032993]\n",
      "stdev: [ 0.57691538  0.57707745]\n"
     ]
    }
   ],
   "source": [
    "TOTAL = 1000000\n",
    "dots = sc.parallelize([2.0 * np.random.random(2) - 1.0 for i in range(TOTAL)]).cache()\n",
    "print(\"Number of random points:\", dots.count())\n",
    "\n",
    "stats = dots.stats()\n",
    "print('Mean:', stats.mean())\n",
    "print('stdev:', stats.stdev())"
   ]
  },
  {
   "cell_type": "code",
   "execution_count": 4,
   "metadata": {},
   "outputs": [
    {
     "data": {
      "text/plain": [
       "<matplotlib.collections.PathCollection at 0x22f9da91c88>"
      ]
     },
     "execution_count": 4,
     "metadata": {},
     "output_type": "execute_result"
    },
    {
     "data": {
      "image/png": "[encoded data removed]",
      "text/plain": [
       "<matplotlib.figure.Figure at 0x22f9d4503c8>"
      ]
     },
     "metadata": {},
     "output_type": "display_data"
    }
   ],
   "source": [
    "%matplotlib inline\n",
    "from operator import itemgetter\n",
    "from matplotlib import pyplot as plt\n",
    "\n",
    "plt.figure(figsize = (10, 5))\n",
    "\n",
    "# Plot 1\n",
    "plt.subplot(1, 2, 1)\n",
    "plt.xlim((-1.0, 1.0))\n",
    "plt.ylim((-1.0, 1.0))\n",
    "\n",
    "sample = dots.sample(False, 0.01)\n",
    "X = sample.map(itemgetter(0)).collect()\n",
    "Y = sample.map(itemgetter(1)).collect()\n",
    "plt.scatter(X, Y)\n",
    "\n",
    "# Plot 2\n",
    "plt.subplot(1, 2, 2)\n",
    "plt.xlim((-1.0, 1.0))\n",
    "plt.ylim((-1.0, 1.0))\n",
    "\n",
    "inCircle = lambda v: np.linalg.norm(v) <= 1.0\n",
    "dotsIn = sample.filter(inCircle).cache()\n",
    "dotsOut = sample.filter(lambda v: not inCircle(v)).cache()\n",
    "\n",
    "# inside circle\n",
    "Xin = dotsIn.map(itemgetter(0)).collect()\n",
    "Yin = dotsIn.map(itemgetter(1)).collect()\n",
    "plt.scatter(Xin, Yin, color = 'r')\n",
    "\n",
    "# outside circle\n",
    "Xout = dotsOut.map(itemgetter(0)).collect()\n",
    "Yout = dotsOut.map(itemgetter(1)).collect()\n",
    "plt.scatter(Xout, Yout)"
   ]
  },
  {
   "cell_type": "markdown",
   "metadata": {},
   "source": [
    "# O'Reilly"
   ]
  },
  {
   "cell_type": "code",
   "execution_count": 6,
   "metadata": {},
   "outputs": [],
   "source": [
    "rdd = sc.parallelize([1,2,3,4,5])\n",
    "\n",
    "doubled = rdd.map\n",
    "\n"
   ]
  },
  {
   "cell_type": "code",
   "execution_count": 26,
   "metadata": {},
   "outputs": [
    {
     "data": {
      "text/plain": [
       "b'(4) ParallelCollectionRDD[3] at parallelize at PythonRDD.scala:489 []'"
      ]
     },
     "execution_count": 26,
     "metadata": {},
     "output_type": "execute_result"
    }
   ],
   "source": [
    "rdd.toDebugString()"
   ]
  },
  {
   "cell_type": "code",
   "execution_count": 12,
   "metadata": {},
   "outputs": [
    {
     "data": {
      "text/plain": [
       "Dividends.txt MapPartitionsRDD[9] at textFile at NativeMethodAccessorImpl.java:0"
      ]
     },
     "execution_count": 12,
     "metadata": {},
     "output_type": "execute_result"
    }
   ],
   "source": [
    "text = sc.textFile(\"Dividends.txt\" , minPartitions = 20)\n",
    "\n",
    "text"
   ]
  },
  {
   "cell_type": "code",
   "execution_count": null,
   "metadata": {},
   "outputs": [],
   "source": [
    "text.collect()"
   ]
  },
  {
   "cell_type": "code",
   "execution_count": 23,
   "metadata": {},
   "outputs": [
    {
     "data": {
      "text/plain": [
       "b'(4) PythonRDD[29] at RDD at PythonRDD.scala:48 []\\n |  ParallelCollectionRDD[28] at parallelize at PythonRDD.scala:489 []'"
      ]
     },
     "execution_count": 23,
     "metadata": {},
     "output_type": "execute_result"
    }
   ],
   "source": [
    "numbers = sc.parallelize(range(20))\n",
    "\n",
    "#numbers.collect()\n",
    "#numbers.sum()\n",
    "#numbers.count()\n",
    "#numbers.take(3)\n",
    "#numbers.saveAsTextFile(\"our_numbers.txt\")\n",
    "numbers.toDebugString()"
   ]
  },
  {
   "cell_type": "code",
   "execution_count": 28,
   "metadata": {},
   "outputs": [
    {
     "data": {
      "text/plain": [
       "<bound method RDD.toDebugString of UnionRDD[33] at union at NativeMethodAccessorImpl.java:0>"
      ]
     },
     "execution_count": 28,
     "metadata": {},
     "output_type": "execute_result"
    }
   ],
   "source": [
    "combined = numbers.union(rdd)\n",
    "combined.toDebugString"
   ]
  },
  {
   "cell_type": "code",
   "execution_count": null,
   "metadata": {},
   "outputs": [],
   "source": [
    "numb = sc.parallelize(range(1000))\n",
    "result = numb.map(lambda x: x * 5)\n",
    "result.collect()"
   ]
  },
  {
   "cell_type": "code",
   "execution_count": 36,
   "metadata": {},
   "outputs": [
    {
     "data": {
      "text/plain": [
       "False"
      ]
     },
     "execution_count": 36,
     "metadata": {},
     "output_type": "execute_result"
    }
   ],
   "source": [
    "numb.persist\n",
    "numb.is_cached"
   ]
  },
  {
   "cell_type": "code",
   "execution_count": null,
   "metadata": {},
   "outputs": [],
   "source": []
  }
 ],
 "metadata": {
  "kernelspec": {
   "display_name": "Python 3",
   "language": "python",
   "name": "python3"
  },
  "language_info": {
   "codemirror_mode": {
    "name": "ipython",
    "version": 3
   },
   "file_extension": ".py",
   "mimetype": "text/x-python",
   "name": "python",
   "nbconvert_exporter": "python",
   "pygments_lexer": "ipython3",
   "version": "3.6.3"
  }
 },
 "nbformat": 4,
 "nbformat_minor": 2
}
