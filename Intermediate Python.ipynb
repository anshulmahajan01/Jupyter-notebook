{
 "cells": [
  {
   "cell_type": "code",
   "execution_count": 8,
   "metadata": {},
   "outputs": [
    {
     "name": "stdout",
     "output_type": "stream",
     "text": [
      "Hello there, Anshul\n",
      "Hello there, Gary\n",
      "Hello there, Jill\n",
      "Hello there, Samantha\n",
      "Anshul bought 12 apples today!\n"
     ]
    }
   ],
   "source": [
    "names = ['Anshul' ,'Gary' ,'Jill' ,'Samantha']\n",
    "\n",
    "for name in names:\n",
    "    print('Hello there, ' + name)\n",
    "    \n",
    "\n",
    "who = 'Anshul'\n",
    "how_many = 12\n",
    "\n",
    "print(who , 'bought' , how_many ,'apples today!')"
   ]
  },
  {
   "cell_type": "code",
   "execution_count": null,
   "metadata": {},
   "outputs": [],
   "source": []
  }
 ],
 "metadata": {
  "kernelspec": {
   "display_name": "Python 3",
   "language": "python",
   "name": "python3"
  },
  "language_info": {
   "codemirror_mode": {
    "name": "ipython",
    "version": 3
   },
   "file_extension": ".py",
   "mimetype": "text/x-python",
   "name": "python",
   "nbconvert_exporter": "python",
   "pygments_lexer": "ipython3",
   "version": "3.6.3"
  }
 },
 "nbformat": 4,
 "nbformat_minor": 2
}
