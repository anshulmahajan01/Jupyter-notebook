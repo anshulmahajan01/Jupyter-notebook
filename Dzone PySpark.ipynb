{
 "cells": [
  {
   "cell_type": "code",
   "execution_count": 2,
   "metadata": {},
   "outputs": [],
   "source": [
    "import urllib.request\n",
    "f = urllib.request.urlretrieve (\"http://kdd.ics.uci.edu/databases/kddcup99/kddcup.data_10_percent.gz\", \"kddcup.data_10_percent.gz\")"
   ]
  },
  {
   "cell_type": "code",
   "execution_count": 7,
   "metadata": {},
   "outputs": [
    {
     "data": {
      "text/plain": [
       "['0,tcp,http,SF,181,5450,0,0,0,0,0,1,0,0,0,0,0,0,0,0,0,0,8,8,0.00,0.00,0.00,0.00,1.00,0.00,0.00,9,9,1.00,0.00,0.11,0.00,0.00,0.00,0.00,0.00,normal.',\n",
       " '0,tcp,http,SF,239,486,0,0,0,0,0,1,0,0,0,0,0,0,0,0,0,0,8,8,0.00,0.00,0.00,0.00,1.00,0.00,0.00,19,19,1.00,0.00,0.05,0.00,0.00,0.00,0.00,0.00,normal.']"
      ]
     },
     "execution_count": 7,
     "metadata": {},
     "output_type": "execute_result"
    }
   ],
   "source": [
    "data_file = \"./kddcup.data_10_percent.gz\"\n",
    "raw_data = sc.textFile(data_file)\n",
    "raw_data.take(2)"
   ]
  },
  {
   "cell_type": "code",
   "execution_count": 10,
   "metadata": {},
   "outputs": [
    {
     "data": {
      "text/plain": [
       "[0, 1, 2, 3, 4, 5, 6, 7, 8, 9]"
      ]
     },
     "execution_count": 10,
     "metadata": {},
     "output_type": "execute_result"
    }
   ],
   "source": [
    "ints = sc.parallelize(range(10))\n",
    "ints.take(11)"
   ]
  },
  {
   "cell_type": "code",
   "execution_count": 12,
   "metadata": {},
   "outputs": [
    {
     "data": {
      "text/plain": [
       "[0, 1, 4, 9, 16, 25, 36, 49, 64, 81]"
      ]
     },
     "execution_count": 12,
     "metadata": {},
     "output_type": "execute_result"
    }
   ],
   "source": [
    "squares = ints.map(lambda num : num * num)\n",
    "squares.take(11)"
   ]
  },
  {
   "cell_type": "code",
   "execution_count": 13,
   "metadata": {},
   "outputs": [
    {
     "data": {
      "text/plain": [
       "[0, 2, 4, 6, 8]"
      ]
     },
     "execution_count": 13,
     "metadata": {},
     "output_type": "execute_result"
    }
   ],
   "source": [
    "evens = ints.filter(lambda num : num % 2 == 0)\n",
    "evens.take(11)"
   ]
  },
  {
   "cell_type": "code",
   "execution_count": 15,
   "metadata": {},
   "outputs": [
    {
     "data": {
      "text/plain": [
       "45"
      ]
     },
     "execution_count": 15,
     "metadata": {},
     "output_type": "execute_result"
    }
   ],
   "source": [
    "sumRDD = ints.reduce(lambda a , b  : a + b )\n",
    "sumRDD"
   ]
  },
  {
   "cell_type": "code",
   "execution_count": 18,
   "metadata": {},
   "outputs": [
    {
     "data": {
      "text/plain": [
       "['w1', 'w2', 'w3', 'w2', 'w3', 'w4', 'w5', 'w2', 'w4']"
      ]
     },
     "execution_count": 18,
     "metadata": {},
     "output_type": "execute_result"
    }
   ],
   "source": [
    "docsRDD = sc.parallelize([('w1' ,'w2' , 'w3') , ('w2' , 'w3') , ('w4' , 'w5') , ('w2' ,'w4')])\n",
    "\n",
    "docsRDD.take(4)\n",
    "\n",
    "wordsRDD = docsRDD.flatMap(lambda line : line)\n",
    "wordsRDD.take(10)\n"
   ]
  },
  {
   "cell_type": "code",
   "execution_count": 22,
   "metadata": {},
   "outputs": [
    {
     "data": {
      "text/plain": [
       "[('w3', 2), ('w4', 2), ('w1', 1), ('w2', 3), ('w5', 1)]"
      ]
     },
     "execution_count": 22,
     "metadata": {},
     "output_type": "execute_result"
    }
   ],
   "source": [
    "freqRDD = wordsRDD.map(lambda word : (word ,1)).reduceByKey(lambda wfa , wfb : (wfa + wfb))\n",
    "freqRDD.take(10)"
   ]
  },
  {
   "cell_type": "code",
   "execution_count": 25,
   "metadata": {},
   "outputs": [
    {
     "ename": "SyntaxError",
     "evalue": "invalid syntax (<ipython-input-25-c1c0516d8277>, line 1)",
     "output_type": "error",
     "traceback": [
      "\u001b[1;36m  File \u001b[1;32m\"<ipython-input-25-c1c0516d8277>\"\u001b[1;36m, line \u001b[1;32m1\u001b[0m\n\u001b[1;33m    sortedRdd = freqRdd.sortBy(lambda (k, v): v, False)\u001b[0m\n\u001b[1;37m                                      ^\u001b[0m\n\u001b[1;31mSyntaxError\u001b[0m\u001b[1;31m:\u001b[0m invalid syntax\n"
     ]
    }
   ],
   "source": [
    "sortedRdd = freqRdd.sortBy(lambda (k, v): v, False)\n",
    "sortedRdd.take(10)"
   ]
  },
  {
   "cell_type": "code",
   "execution_count": 26,
   "metadata": {},
   "outputs": [
    {
     "data": {
      "text/plain": [
       "[('w1', 1), ('w2', 3), ('w3', 2), ('w4', 2), ('w5', 1)]"
      ]
     },
     "execution_count": 26,
     "metadata": {},
     "output_type": "execute_result"
    }
   ],
   "source": [
    "sortAlpha = freqRDD.sortByKey()\n",
    "sortAlpha.take(10)"
   ]
  },
  {
   "cell_type": "code",
   "execution_count": 39,
   "metadata": {},
   "outputs": [
    {
     "name": "stdout",
     "output_type": "stream",
     "text": [
      "['keep', 'the', 'high', 'blue', 'flag']\n"
     ]
    }
   ],
   "source": [
    "from random import shuffle \n",
    "\n",
    "x = ['keep', 'the' , 'blue' , 'flag', 'high']\n",
    "\n",
    "shuffle(x)\n",
    "\n",
    "print(x)"
   ]
  },
  {
   "cell_type": "code",
   "execution_count": null,
   "metadata": {},
   "outputs": [],
   "source": []
  },
  {
   "cell_type": "code",
   "execution_count": null,
   "metadata": {},
   "outputs": [],
   "source": [
    "import csv \n",
    "import json\n",
    "import io\n",
    "import avro.datafile\n",
    "import avro.io\n",
    "\n",
    "\n",
    "infile = open(\"C:/Users/User/Avro/DNAC test30-2.txt\", \"rb\")\n",
    "outfile = open('C:/Users/User/Avro/DNAC test30-2.csv' , \"wb\")\n",
    "\n",
    "\n",
    "writer = csv.writer(outfile)\n",
    "\n",
    "\n",
    "for row in json.loads(infile.read()):\n",
    "    writer.writerow(row)"
   ]
  },
  {
   "cell_type": "code",
   "execution_count": null,
   "metadata": {},
   "outputs": [],
   "source": [
    "import io\n",
    "import avro.datafile\n",
    "import avro.io\n",
    "\n",
    "reader = avro.datafile.DataFileReader(open('C:/Users/User/Avro/DNAC test30-2.avro',\"rb\"),avro.io.DatumReader())\n",
    "schema = reader.meta\n",
    "print(schema) \n",
    "\n"
   ]
  },
  {
   "cell_type": "code",
   "execution_count": 9,
   "metadata": {},
   "outputs": [
    {
     "ename": "SyntaxError",
     "evalue": "invalid syntax (<ipython-input-9-5ff3812e4465>, line 7)",
     "output_type": "error",
     "traceback": [
      "\u001b[1;36m  File \u001b[1;32m\"<ipython-input-9-5ff3812e4465>\"\u001b[1;36m, line \u001b[1;32m7\u001b[0m\n\u001b[1;33m    sourceFile = @\u001b[0m\n\u001b[1;37m                 ^\u001b[0m\n\u001b[1;31mSyntaxError\u001b[0m\u001b[1;31m:\u001b[0m invalid syntax\n"
     ]
    }
   ],
   "source": [
    "import json \n",
    "import io\n",
    "import avro.datafile\n",
    "import avro.io\n",
    "\n",
    "sourceFile = open('C:/Users/User/Avro/DNAC test30-2.avro' , \"r\")\n",
    "\n",
    "json_data = json.load(sourceFile)\n",
    "\n",
    "print (json_data)"
   ]
  },
  {
   "cell_type": "code",
   "execution_count": 4,
   "metadata": {},
   "outputs": [
    {
     "data": {
      "text/plain": [
       "('blblahblblahblblah', 3)"
      ]
     },
     "execution_count": 4,
     "metadata": {},
     "output_type": "execute_result"
    }
   ],
   "source": [
    "import re \n",
    "mys = \"blahblahblah\"\n",
    "pattern = \"bla\"\n",
    "\n",
    "re.subn('a' , pattern , mys)"
   ]
  },
  {
   "cell_type": "code",
   "execution_count": 27,
   "metadata": {},
   "outputs": [
    {
     "name": "stdout",
     "output_type": "stream",
     "text": [
      "['False', 'None', 'True', 'and', 'as', 'assert', 'break', 'class', 'continue', 'def', 'del', 'elif', 'else', 'except', 'finally', 'for', 'from', 'global', 'if', 'import', 'in', 'is', 'lambda', 'nonlocal', 'not', 'or', 'pass', 'raise', 'return', 'try', 'while', 'with', 'yield']\n"
     ]
    }
   ],
   "source": [
    "import keyword \n",
    "print(keyword.kwlist)"
   ]
  },
  {
   "cell_type": "code",
   "execution_count": 70,
   "metadata": {},
   "outputs": [
    {
     "name": "stdout",
     "output_type": "stream",
     "text": [
      "N\n",
      "S\n"
     ]
    }
   ],
   "source": [
    "first = \"NYC\"[0]\n",
    "city = \"SFO\"\n",
    "print(first)\n",
    "\n",
    "ft = city[0]\n",
    "print(ft)\n"
   ]
  },
  {
   "cell_type": "code",
   "execution_count": 89,
   "metadata": {},
   "outputs": [
    {
     "name": "stdout",
     "output_type": "stream",
     "text": [
      "Welcome to the NYC and enjoy the Concert\n",
      "Welcome to the NYC\n",
      "Welcome to the NYC and enjoy the  Concert\n"
     ]
    }
   ],
   "source": [
    "city  = \"NYC\"\n",
    "event = \"Concert\"\n",
    "\n",
    "print(\"Welcome to the \" + city + \" and enjoy the \"+ event)\n",
    "\n",
    "print(\"Welcome to the %s\" %city)\n",
    "\n",
    "print(\"Welcome to the %s and enjoy the  %s\" %(city, event))"
   ]
  },
  {
   "cell_type": "raw",
   "metadata": {},
   "source": []
  },
  {
   "cell_type": "code",
   "execution_count": 108,
   "metadata": {},
   "outputs": [
    {
     "name": "stdout",
     "output_type": "stream",
     "text": [
      "['BMW', 'Jeep', 'Honda', 'Audi', 'Benz']\n",
      "2\n",
      "Benz\n",
      "['BMW', 'Honda', 'Audi']\n",
      "['BMW', 'Honda']\n",
      "None\n"
     ]
    }
   ],
   "source": [
    "cars = [\"BMW\" , \"Honda\" , \"Audi\"]\n",
    "cars.append(\"Benz\")\n",
    "cars.insert(1 , \"Jeep\")\n",
    "print(cars)\n",
    "\n",
    "x = cars.index(\"Honda\")\n",
    "\n",
    "print(x)\n",
    "\n",
    "y = cars.pop()\n",
    "print(y)\n",
    "\n",
    "cars.remove(\"Jeep\")\n",
    "print(cars)\n",
    "\n",
    "\n",
    "slicing = cars[ 0: 2]\n",
    "print(slicing)\n",
    "\n",
    "\n",
    "cars.sort()\n",
    "print(cars.sort())"
   ]
  },
  {
   "cell_type": "code",
   "execution_count": 121,
   "metadata": {},
   "outputs": [
    {
     "ename": "SyntaxError",
     "evalue": "invalid syntax (<ipython-input-121-0a276bbd5162>, line 1)",
     "output_type": "error",
     "traceback": [
      "\u001b[1;36m  File \u001b[1;32m\"<ipython-input-121-0a276bbd5162>\"\u001b[1;36m, line \u001b[1;32m1\u001b[0m\n\u001b[1;33m    cars = {\"bmw\" : {\"Model\": \"550i\" , \"Year\" : 2016} , {\"Benz\" : {\"Model\"  : \"E350\" ,\"Year\" : 2015}}}\u001b[0m\n\u001b[1;37m                                                                                                     ^\u001b[0m\n\u001b[1;31mSyntaxError\u001b[0m\u001b[1;31m:\u001b[0m invalid syntax\n"
     ]
    }
   ],
   "source": [
    "cars = {\"bmw\" : {\"Model\": \"550i\" , \"Year\" : 2016} , {\"Benz\" : {\"Model\"  : \"E350\" ,\"Year\" : 2015}}}"
   ]
  },
  {
   "cell_type": "code",
   "execution_count": 8,
   "metadata": {},
   "outputs": [
    {
     "name": "stdout",
     "output_type": "stream",
     "text": [
      "False\n"
     ]
    }
   ],
   "source": [
    "gt_eq = 10 >= 11 \n",
    "print(gt_eq)"
   ]
  },
  {
   "cell_type": "code",
   "execution_count": 18,
   "metadata": {},
   "outputs": [
    {
     "name": "stdout",
     "output_type": "stream",
     "text": [
      "True\n"
     ]
    }
   ],
   "source": [
    "not_output1 = not(10 > 10) \n",
    "print(not_output1)"
   ]
  },
  {
   "cell_type": "code",
   "execution_count": 22,
   "metadata": {},
   "outputs": [
    {
     "name": "stdout",
     "output_type": "stream",
     "text": [
      "True\n",
      "False\n"
     ]
    }
   ],
   "source": [
    "bool_output = True or not False and False \n",
    "print(bool_output)\n",
    "\n",
    "\n",
    "bool_output_1 = (10 == 10 or not 10 > 10) and 10 > 10\n",
    "print(bool_output_1)"
   ]
  },
  {
   "cell_type": "code",
   "execution_count": 34,
   "metadata": {},
   "outputs": [
    {
     "name": "stdout",
     "output_type": "stream",
     "text": [
      "Stop\n"
     ]
    }
   ],
   "source": [
    "value = 'Orange'\n",
    "\n",
    "if value == 'Green':\n",
    "    print(\"Go\")    \n",
    "elif value == \"Yellow\":\n",
    "    print(\"Prepare to stop\")    \n",
    "else:\n",
    "    print(\"Stop\")"
   ]
  },
  {
   "cell_type": "code",
   "execution_count": 42,
   "metadata": {},
   "outputs": [
    {
     "name": "stdout",
     "output_type": "stream",
     "text": [
      "Vlaue of x is: 0\n",
      "This example is awesome\n",
      "********************\n",
      "Just broke out of the loop\n",
      "Vlaue of x is: 1\n",
      "This example is awesome\n",
      "********************\n",
      "Just broke out of the loop\n",
      "Vlaue of x is: 2\n",
      "This example is awesome\n",
      "********************\n",
      "Just broke out of the loop\n",
      "Vlaue of x is: 3\n",
      "This example is awesome\n",
      "********************\n",
      "Just broke out of the loop\n",
      "Vlaue of x is: 4\n",
      "This example is awesome\n",
      "********************\n",
      "Just broke out of the loop\n",
      "Vlaue of x is: 5\n",
      "This example is awesome\n",
      "********************\n",
      "Just broke out of the loop\n",
      "Vlaue of x is: 6\n",
      "This example is awesome\n",
      "********************\n",
      "Just broke out of the loop\n",
      "Vlaue of x is: 7\n"
     ]
    }
   ],
   "source": [
    "x = 0 \n",
    "while x < 10:\n",
    "    print(\"Vlaue of x is: \" + str(x))\n",
    "    x = x + 1\n",
    "    \n",
    "    \n",
    "    if x == 8:\n",
    "        break\n",
    "    \n",
    "    print(\"This example is awesome\")\n",
    "    print(\"*\" * 20)\n",
    "    print(\"Just broke out of the loop\")"
   ]
  },
  {
   "cell_type": "code",
   "execution_count": 50,
   "metadata": {},
   "outputs": [
    {
     "name": "stdout",
     "output_type": "stream",
     "text": [
      "BMW\n",
      "Audi\n",
      "Merc\n",
      "10\n",
      "20\n",
      "30\n",
      "One 1\n",
      "Two 2\n",
      "Three 3\n",
      "One\n",
      "1\n",
      "Two\n",
      "2\n",
      "Three\n",
      "3\n"
     ]
    }
   ],
   "source": [
    "#my_string = 'abcabc'\n",
    "\n",
    "#for c in my_string:\n",
    "    #print(c, end=' ')\n",
    "    \n",
    "\n",
    "    \n",
    "    \n",
    "cars =[ \"BMW\" , \"Audi\" , \"Merc\"]\n",
    "for car in cars:\n",
    "    print(car)\n",
    "    \n",
    "nums = [1,2,3]\n",
    "for n in nums:\n",
    "    print(n * 10)\n",
    "    \n",
    "    \n",
    "d = {'One' : 1 , 'Two' : 2 , 'Three' : 3}\n",
    "for k in d:\n",
    "    print(k + \" \"  +  str(d[k]))\n",
    "    \n",
    "    \n",
    "for k,v in  d.items():\n",
    "    print(k)\n",
    "    print(v)"
   ]
  },
  {
   "cell_type": "code",
   "execution_count": 51,
   "metadata": {},
   "outputs": [
    {
     "name": "stdout",
     "output_type": "stream",
     "text": [
      "1\n",
      "6\n",
      "2\n",
      "7\n",
      "3\n",
      "8\n"
     ]
    }
   ],
   "source": [
    "l1 = [1 ,2,3]\n",
    "l2 = [6,7,8,11,12,22]\n",
    "\n",
    "for a ,b in zip(l1,l2):\n",
    "    print(a)\n",
    "    print(b)"
   ]
  },
  {
   "cell_type": "code",
   "execution_count": 58,
   "metadata": {},
   "outputs": [
    {
     "name": "stdout",
     "output_type": "stream",
     "text": [
      "[1, 2, 3, 4, 5, 6, 7, 8, 9]\n",
      "range(0, 20, 5)\n",
      "<class 'range'>\n",
      "[0, 5, 10, 15]\n"
     ]
    }
   ],
   "source": [
    "print(list(range(1,10)))\n",
    "\n",
    "a = range(0,20,5)\n",
    "print(a)\n",
    "print(type(a))\n",
    "\n",
    "\n",
    "print(list(a))"
   ]
  },
  {
   "cell_type": "code",
   "execution_count": 62,
   "metadata": {},
   "outputs": [
    {
     "name": "stdout",
     "output_type": "stream",
     "text": [
      "14\n",
      "94204972890477\n",
      "None\n",
      "[1, 2, 3, 4]\n",
      "4\n"
     ]
    }
   ],
   "source": [
    "def sum_nums(n1 , n2):\n",
    "    print(n1 + n2)\n",
    "    \n",
    "sum_nums(8,6)\n",
    "sum_nums(48415486541864,45789486348613)\n",
    "\n",
    "\n",
    "\n",
    "l = [1,2,3]\n",
    "print(l.append(4))\n",
    "print(l)\n",
    "\n",
    "print(len(l))"
   ]
  },
  {
   "cell_type": "code",
   "execution_count": 8,
   "metadata": {},
   "outputs": [
    {
     "name": "stdout",
     "output_type": "stream",
     "text": [
      "8\n",
      "****************\n",
      "False\n"
     ]
    }
   ],
   "source": [
    "def sum_nums(n1 , n2):\n",
    "    \n",
    "    return n1 + n2\n",
    "\n",
    "\n",
    "sum1 = sum_nums(2,8)\n",
    "\n",
    "sum2 = sum_nums(3,5)\n",
    "\n",
    "print(sum2)\n",
    "print(\"****************\")\n",
    "\n",
    "\n",
    "\n",
    "def isMetro(city):\n",
    "    l = ['SFO', 'NYC', 'LA']\n",
    "    if city in l:\n",
    "        return True\n",
    "    else:\n",
    "        return False\n",
    "    \n",
    "x = isMetro('Boston')\n",
    "print(x)"
   ]
  },
  {
   "cell_type": "code",
   "execution_count": 13,
   "metadata": {},
   "outputs": [
    {
     "name": "stdout",
     "output_type": "stream",
     "text": [
      "Value of local a is: 10\n",
      "Value of local a is: 10\n",
      "New Value of local a is: 2\n",
      "Did the value of global a change?? 2\n"
     ]
    }
   ],
   "source": [
    "a = 10 \n",
    "\n",
    "def test_method():\n",
    "    global a \n",
    "    print(\"Value of local a is: \" + str(a))\n",
    "    a = 2\n",
    "    print(\"New Value of local a is: \" + str(a))\n",
    "    \n",
    "    \n",
    "print(\"Value of local a is: \" + str(a))\n",
    "test_method()\n",
    "print(\"Did the value of global a change?? \" + str(a))"
   ]
  },
  {
   "cell_type": "code",
   "execution_count": 19,
   "metadata": {},
   "outputs": [
    {
     "name": "stdout",
     "output_type": "stream",
     "text": [
      "100\n",
      "-20\n",
      "20\n",
      "<class 'int'>\n",
      "<class 'float'>\n",
      "<class 'str'>\n",
      "<class 'list'>\n"
     ]
    }
   ],
   "source": [
    "def largest_nums(*args):\n",
    "    print(max(args))\n",
    "    \n",
    "\n",
    "\n",
    "largest_nums(-20,-10,0,10,100)\n",
    "\n",
    "\n",
    "def smallest_nums(*args):\n",
    "    print(min(args))\n",
    "    return(max(args))\n",
    "\n",
    "\n",
    "smallest_nums(-20,-10,0,10,100)\n",
    "\n",
    "\n",
    "\n",
    "def abs_function(a):\n",
    "    print(abs(a))\n",
    "    \n",
    "abs_function(-20)\n",
    "\n",
    "\n",
    "\n",
    "print(type(99))\n",
    "print(type(99.99))\n",
    "print(type(\"99.99\"))\n",
    "\n",
    "l = [1,2,3]\n",
    "print(type(l))\n",
    "\n",
    "\n"
   ]
  },
  {
   "cell_type": "code",
   "execution_count": 22,
   "metadata": {},
   "outputs": [
    {
     "name": "stdout",
     "output_type": "stream",
     "text": [
      "Your net income after all the heavy tax is: 81000.0\n"
     ]
    },
    {
     "data": {
      "text/plain": [
       "81000.0"
      ]
     },
     "execution_count": 22,
     "metadata": {},
     "output_type": "execute_result"
    }
   ],
   "source": [
    "def calculateNetIncome(gross , state):\n",
    "    \n",
    "    state_tax = {'CA' : 10 , 'NY' : 9 , 'TX' : 0 , 'NJ' : 6}\n",
    "    \n",
    "    net = gross - (gross * .10)\n",
    "    \n",
    "    if state in state_tax:\n",
    "        net = net - (gross * state_tax[state] / 100)\n",
    "        print(\"Your net income after all the heavy tax is: \" + str(net))\n",
    "        return net\n",
    "    else:\n",
    "        print(\"State not in the list\")\n",
    "        return None\n",
    "    \n",
    "calculateNetIncome(100000 , 'NY')"
   ]
  },
  {
   "cell_type": "code",
   "execution_count": 2,
   "metadata": {},
   "outputs": [
    {
     "name": "stdout",
     "output_type": "stream",
     "text": [
      "Make of the car: BMW\n",
      "Make of the model: 550i\n",
      "Make of the car: Benz\n",
      "Make of the model: E350\n"
     ]
    }
   ],
   "source": [
    "class Car(object):\n",
    "    \n",
    "    wheels = 4\n",
    "    \n",
    "    def __init__(self, make,model):\n",
    "        self.make = make \n",
    "        self.model = model\n",
    "        \n",
    "    def info(self):\n",
    "        print(\"Make of the car: \" + self.make)\n",
    "        print(\"Make of the model: \" + self.model)\n",
    "\n",
    "c1 = Car('BMW' , '550i')\n",
    "c1.info()\n",
    "\n",
    "\n",
    "c2 = Car('Benz' , 'E350')\n",
    "c2.info()\n",
    "\n",
    "\n",
    "\n"
   ]
  },
  {
   "cell_type": "code",
   "execution_count": 1,
   "metadata": {},
   "outputs": [
    {
     "ename": "AttributeError",
     "evalue": "'dict' object has no attribute 'forward'",
     "output_type": "error",
     "traceback": [
      "\u001b[1;31m---------------------------------------------------------------------------\u001b[0m",
      "\u001b[1;31mAttributeError\u001b[0m                            Traceback (most recent call last)",
      "\u001b[1;32m<ipython-input-1-e2108eef1ea9>\u001b[0m in \u001b[0;36m<module>\u001b[1;34m()\u001b[0m\n\u001b[0;32m      2\u001b[0m \u001b[0mt\u001b[0m \u001b[1;33m=\u001b[0m \u001b[0mturtle\u001b[0m\u001b[1;33m.\u001b[0m\u001b[0mpen\u001b[0m\u001b[1;33m(\u001b[0m\u001b[1;33m)\u001b[0m\u001b[1;33m\u001b[0m\u001b[0m\n\u001b[0;32m      3\u001b[0m \u001b[1;32mfor\u001b[0m \u001b[0mi\u001b[0m \u001b[1;32min\u001b[0m \u001b[0mrange\u001b[0m\u001b[1;33m(\u001b[0m\u001b[1;36m0\u001b[0m\u001b[1;33m,\u001b[0m\u001b[1;36m8\u001b[0m\u001b[1;33m)\u001b[0m\u001b[1;33m:\u001b[0m\u001b[1;33m\u001b[0m\u001b[0m\n\u001b[1;32m----> 4\u001b[1;33m    \u001b[0mt\u001b[0m\u001b[1;33m.\u001b[0m\u001b[0mforward\u001b[0m\u001b[1;33m(\u001b[0m\u001b[1;36m50\u001b[0m\u001b[1;33m)\u001b[0m\u001b[1;33m\u001b[0m\u001b[0m\n\u001b[0m\u001b[0;32m      5\u001b[0m    \u001b[0mt\u001b[0m\u001b[1;33m.\u001b[0m\u001b[0mleft\u001b[0m\u001b[1;33m(\u001b[0m\u001b[1;36m45\u001b[0m\u001b[1;33m)\u001b[0m\u001b[1;33m\u001b[0m\u001b[0m\n",
      "\u001b[1;31mAttributeError\u001b[0m: 'dict' object has no attribute 'forward'"
     ]
    }
   ],
   "source": [
    " import turtle \n",
    " t = turtle.pen()\n",
    " for i in range(0,8):\n",
    "    t.forward(50)\n",
    "    t.left(45)"
   ]
  }
 ],
 "metadata": {
  "kernelspec": {
   "display_name": "Python 3",
   "language": "python",
   "name": "python3"
  },
  "language_info": {
   "codemirror_mode": {
    "name": "ipython",
    "version": 3
   },
   "file_extension": ".py",
   "mimetype": "text/x-python",
   "name": "python",
   "nbconvert_exporter": "python",
   "pygments_lexer": "ipython3",
   "version": "3.6.3"
  }
 },
 "nbformat": 4,
 "nbformat_minor": 2
}
