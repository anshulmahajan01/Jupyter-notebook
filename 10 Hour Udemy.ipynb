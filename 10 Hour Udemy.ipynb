{
 "cells": [
  {
   "cell_type": "code",
   "execution_count": 1,
   "metadata": {},
   "outputs": [],
   "source": [
    "import random\n",
    "import turtle\n",
    "import re\n",
    "import urllib.request"
   ]
  },
  {
   "cell_type": "code",
   "execution_count": 12,
   "metadata": {},
   "outputs": [
    {
     "name": "stdout",
     "output_type": "stream",
     "text": [
      "Rainy\n"
     ]
    }
   ],
   "source": [
    "day = \"Sunday\"\n",
    "\n",
    "if day == \"Monday\":\n",
    "    print(\"Sunny\")\n",
    "elif day == \"Tuesday\":\n",
    "    print(\"Cloudy\")\n",
    "else:\n",
    "    print(\"Rainy\")"
   ]
  },
  {
   "cell_type": "code",
   "execution_count": null,
   "metadata": {},
   "outputs": [],
   "source": [
    "for i in range(0,5):\n",
    "    for a in range(0,5):\n",
    "        print(a)"
   ]
  },
  {
   "cell_type": "code",
   "execution_count": null,
   "metadata": {},
   "outputs": [],
   "source": [
    "for i in range(2,30):\n",
    "    j = 2\n",
    "    counter = 0\n",
    "    while j < i:\n",
    "        if i % j == 0:\n",
    "            counter = 1\n",
    "            j = j + 1\n",
    "        else:\n",
    "            j = j + 1\n",
    "    \n",
    "    if counter == 0:\n",
    "        print(str(i) + \" is a prime number\")\n",
    "        \n",
    "    else:\n",
    "        counter = 0\n",
    "            "
   ]
  },
  {
   "cell_type": "code",
   "execution_count": 3,
   "metadata": {},
   "outputs": [
    {
     "name": "stdout",
     "output_type": "stream",
     "text": [
      "You will get special privileges\n"
     ]
    }
   ],
   "source": [
    "name = \"Anshul\"\n",
    "age = 14\n",
    "if age > 13:\n",
    "    if name == \"Anshul\":\n",
    "        print(\"You will get special privileges\")\n",
    "    else:\n",
    "        print(\"You are elidgible for facebook\")\n",
    "        \n",
    "    "
   ]
  },
  {
   "cell_type": "code",
   "execution_count": null,
   "metadata": {},
   "outputs": [],
   "source": [
    "for i in range(2,30):\n",
    "    j = 2\n",
    "    counter = 0\n",
    "    while j < i:\n",
    "        if i % j == 0:\n",
    "            counter = 1\n",
    "            j = j + 1\n",
    "        else:\n",
    "            j = j + 1\n",
    "    \n",
    "    if counter == 0:\n",
    "        print(str(i) + \" is a prime number\")\n",
    "        \n",
    "    else:\n",
    "        counter = 0\n",
    "            "
   ]
  },
  {
   "cell_type": "code",
   "execution_count": null,
   "metadata": {},
   "outputs": [],
   "source": [
    "for i in \"Python\":\n",
    "    if i == \"h\":\n",
    "        continue\n",
    "    print(i)"
   ]
  },
  {
   "cell_type": "code",
   "execution_count": 14,
   "metadata": {},
   "outputs": [
    {
     "name": "stdout",
     "output_type": "stream",
     "text": [
      "Python ran into error.please take a look at your code\n"
     ]
    }
   ],
   "source": [
    "try:\n",
    "    if name > 3:\n",
    "        print(\"Hi\")\n",
    "        \n",
    "except:\n",
    "    print(\"Python ran into error.please take a look at your code\")"
   ]
  },
  {
   "cell_type": "code",
   "execution_count": 1,
   "metadata": {},
   "outputs": [],
   "source": [
    "total = 10\n",
    "def multiply(num1,num2):\n",
    "    total = num1*num2\n",
    "    return total"
   ]
  },
  {
   "cell_type": "code",
   "execution_count": null,
   "metadata": {},
   "outputs": [],
   "source": [
    "help(tiger.replace)"
   ]
  },
  {
   "cell_type": "code",
   "execution_count": 30,
   "metadata": {},
   "outputs": [
    {
     "data": {
      "text/plain": [
       "768"
      ]
     },
     "execution_count": 30,
     "metadata": {},
     "output_type": "execute_result"
    }
   ],
   "source": [
    "list1 = [232,4,464,4,64]\n",
    "sum(list1)"
   ]
  },
  {
   "cell_type": "code",
   "execution_count": 19,
   "metadata": {},
   "outputs": [
    {
     "name": "stdout",
     "output_type": "stream",
     "text": [
      "Hi there\n",
      "My name is Bob\n"
     ]
    }
   ],
   "source": [
    "program = '''print('Hi there')\n",
    "print('My name is Bob')'''\n",
    "\n",
    "exec(program)"
   ]
  },
  {
   "cell_type": "code",
   "execution_count": 36,
   "metadata": {},
   "outputs": [],
   "source": [
    "class ClassName:\n",
    "    pass\n",
    "\n",
    "instance = ClassName()\n",
    "class Students:\n",
    "    def __init__(self,name,age,grade):\n",
    "        self.name = name \n",
    "        self.age = age \n",
    "        self.grade = grade"
   ]
  },
  {
   "cell_type": "code",
   "execution_count": 47,
   "metadata": {},
   "outputs": [],
   "source": [
    "class Students:\n",
    "    def __init__(self,name,age):\n",
    "        self.name = name \n",
    "        self.age = age\n",
    "    def displayStudents(self):\n",
    "        return(\"Student name is \" + self.name + \" and age is \" + str(self.age))\n",
    "        "
   ]
  },
  {
   "cell_type": "code",
   "execution_count": 49,
   "metadata": {},
   "outputs": [],
   "source": [
    "class Students:\n",
    "    def __init__(self,name,age):\n",
    "        self.name = name \n",
    "        self.age = age"
   ]
  },
  {
   "cell_type": "code",
   "execution_count": 55,
   "metadata": {},
   "outputs": [
    {
     "data": {
      "text/plain": [
       "False"
      ]
     },
     "execution_count": 55,
     "metadata": {},
     "output_type": "execute_result"
    }
   ],
   "source": [
    "student1 = Students(\"Anshul\" , 27)\n",
    "student2 = Students(\"Harshal\" , 26)\n",
    "hasattr(student1 , \"grade\")"
   ]
  },
  {
   "cell_type": "code",
   "execution_count": 59,
   "metadata": {},
   "outputs": [
    {
     "data": {
      "text/plain": [
       "27"
      ]
     },
     "execution_count": 59,
     "metadata": {},
     "output_type": "execute_result"
    }
   ],
   "source": [
    "setattr(student1 , 'grade' , \"8th\")\n",
    "\n",
    "getattr(student1 , \"age\")"
   ]
  },
  {
   "cell_type": "code",
   "execution_count": 60,
   "metadata": {},
   "outputs": [],
   "source": [
    "class Parent:\n",
    "    counter = 10\n",
    "    def __init__(self):\n",
    "        print(\"Class Initialized\")\n",
    "    def ParentFunc(self):\n",
    "        print(\"ParentFunc being called\")\n",
    "    def setCounter(self,num):\n",
    "        Parent.counter = num\n",
    "    def showCounter(self):\n",
    "        print(str(Parent.counter))"
   ]
  },
  {
   "cell_type": "code",
   "execution_count": 61,
   "metadata": {},
   "outputs": [],
   "source": [
    "class Child:\n",
    "    def __init__(self):\n",
    "        print(\"Child class being initialized\")\n",
    "    def childFunc(self):\n",
    "        print(\"Child Func being called\")"
   ]
  },
  {
   "cell_type": "code",
   "execution_count": 62,
   "metadata": {},
   "outputs": [],
   "source": [
    "class Child(Parent):\n",
    "    def __init__(self):\n",
    "        print(\"Child class being initialized\")\n",
    "    def childFunc(self):\n",
    "        print(\"Child Func being called\")"
   ]
  },
  {
   "cell_type": "code",
   "execution_count": 1,
   "metadata": {},
   "outputs": [],
   "source": [
    "class Parent:\n",
    "    def func(self):\n",
    "        print(\"This is a parent function\")"
   ]
  },
  {
   "cell_type": "code",
   "execution_count": 2,
   "metadata": {},
   "outputs": [],
   "source": [
    "class Child(Parent):\n",
    "    def fuc(self):\n",
    "        print(\"This is a child function\")"
   ]
  },
  {
   "cell_type": "code",
   "execution_count": null,
   "metadata": {},
   "outputs": [],
   "source": [
    "import random \n",
    "\n",
    "comGuess = random.randint(0 , 100)\n",
    "\n",
    "while True:\n",
    "    userGuess = int(input(\"Guess a number between 0-100: \"))\n",
    "    if userGuess > comGuess:\n",
    "        print(\"Guess Lower\")\n",
    "    elif userGuess < comGuess:\n",
    "        print(\"Guess Higher\")\n",
    "    else:\n",
    "        print(\"You have guess the correct number\")\n",
    "        break"
   ]
  },
  {
   "cell_type": "code",
   "execution_count": 1,
   "metadata": {},
   "outputs": [
    {
     "name": "stdout",
     "output_type": "stream",
     "text": [
      "Automatic pdb calling has been turned ON\n"
     ]
    }
   ],
   "source": [
    "%pdb"
   ]
  },
  {
   "cell_type": "code",
   "execution_count": 17,
   "metadata": {},
   "outputs": [
    {
     "name": "stdout",
     "output_type": "stream",
     "text": [
      "None\n"
     ]
    }
   ],
   "source": [
    "import random \n",
    "food = [\"Ravoli\",\"Paasta\", \"Pizza\", \"Chesscake\"]\n",
    "\n",
    "print(random.shuffle(food))"
   ]
  },
  {
   "cell_type": "code",
   "execution_count": 24,
   "metadata": {},
   "outputs": [
    {
     "name": "stdout",
     "output_type": "stream",
     "text": [
      "This statment is awesome"
     ]
    }
   ],
   "source": [
    "import sys\n",
    "sys.stdout.write(\"This statment is awesome\")"
   ]
  },
  {
   "cell_type": "code",
   "execution_count": null,
   "metadata": {},
   "outputs": [],
   "source": [
    "import time \n",
    "time.time()"
   ]
  },
  {
   "cell_type": "code",
   "execution_count": null,
   "metadata": {},
   "outputs": [],
   "source": [
    "def numbers(max):\n",
    "    time1 = time.time()\n",
    "    for i in range(0,max):\n",
    "        print(i)\n",
    "    time2 = time.time()\n",
    "    print(str(time2 - time1))\n"
   ]
  },
  {
   "cell_type": "code",
   "execution_count": null,
   "metadata": {},
   "outputs": [],
   "source": [
    "for i in range(0,5):\n",
    "    print(i)\n",
    "    time.sleep(1)"
   ]
  },
  {
   "cell_type": "code",
   "execution_count": 1,
   "metadata": {},
   "outputs": [],
   "source": [
    "import turtle \n",
    "t = turtle.Pen()\n",
    "\n",
    "for i in range(1,38):\n",
    "    t.forward(100)\n",
    "    t.left(175)"
   ]
  },
  {
   "cell_type": "code",
   "execution_count": 6,
   "metadata": {},
   "outputs": [],
   "source": [
    "import re \n",
    "dir(re)\n",
    "\n",
    "string = (\"The night was cold and dark and there was no one there\")\n",
    "\n",
    "m = re.search(\"night\" , string)\n"
   ]
  },
  {
   "cell_type": "code",
   "execution_count": 10,
   "metadata": {},
   "outputs": [
    {
     "name": "stdout",
     "output_type": "stream",
     "text": [
      "9\n"
     ]
    }
   ],
   "source": [
    "start = m.start()\n",
    "end = start + 5\n",
    "print(end)"
   ]
  },
  {
   "cell_type": "code",
   "execution_count": 17,
   "metadata": {},
   "outputs": [
    {
     "name": "stdout",
     "output_type": "stream",
     "text": [
      "Enter your stock: amazon\n",
      "https://www.google.com/finance?q=amazon\n"
     ]
    }
   ],
   "source": [
    "url = \"https://www.google.com/finance?q=\"\n",
    "\n",
    "stock = input(\"Enter your stock: \")\n",
    "\n",
    "url = url + stock\n",
    "\n",
    "print(url)"
   ]
  },
  {
   "cell_type": "code",
   "execution_count": null,
   "metadata": {},
   "outputs": [],
   "source": [
    "data = urllib.request.urlopen(url).read()\n",
    "data1 = data.decode(\"utf-8\")"
   ]
  },
  {
   "cell_type": "code",
   "execution_count": null,
   "metadata": {},
   "outputs": [],
   "source": [
    "city = input(\"Enter your city : \")\n",
    "\n",
    "url = \"https://www.weather-forecast.com/locations/\"+ city + \"/forecasts/latest\"\n",
    "\n",
    "data = urllib.request.urlopen(url).read()\n",
    "data1 = data.decode(\"utf-8\")\n",
    "\n",
    "\n",
    "print(data1)\n",
    "\n",
    "m = re.search('span class = \"Phrase\"'.data1)\n",
    "\n",
    "start = m.end()\n",
    "\n",
    "end = start + 100\n",
    "\n",
    "newString = data1[start:end]\n",
    "\n",
    "print(newString)"
   ]
  },
  {
   "cell_type": "code",
   "execution_count": 3,
   "metadata": {},
   "outputs": [],
   "source": [
    "from bs4 import BeautifulSoup"
   ]
  }
 ],
 "metadata": {
  "kernelspec": {
   "display_name": "Python 3",
   "language": "python",
   "name": "python3"
  },
  "language_info": {
   "codemirror_mode": {
    "name": "ipython",
    "version": 3
   },
   "file_extension": ".py",
   "mimetype": "text/x-python",
   "name": "python",
   "nbconvert_exporter": "python",
   "pygments_lexer": "ipython3",
   "version": "3.6.3"
  }
 },
 "nbformat": 4,
 "nbformat_minor": 2
}
