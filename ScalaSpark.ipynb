{
 "cells": [
  {
   "cell_type": "code",
   "execution_count": 1,
   "metadata": {},
   "outputs": [
    {
     "ename": "",
     "evalue": "",
     "output_type": "error",
     "traceback": [
      "Compilation Failed",
      "\u001b[31mMain.scala:49: not found: value sc\r",
      "sc.textFile(\"C:/Users/User/quotes.txt\") \r",
      "^\u001b[0m"
     ]
    }
   ],
   "source": [
    " val df = sc.textFile(\"C:/Users/User/quotes.txt\")"
   ]
  },
  {
   "cell_type": "code",
   "execution_count": null,
   "metadata": {},
   "outputs": [],
   "source": []
  },
  {
   "cell_type": "code",
   "execution_count": null,
   "metadata": {},
   "outputs": [],
   "source": [
    "import org.apache.spark.SparkContext \n",
    "import org.apache.spark.SparkContext._ \n",
    "import org.apache.spark._  \n",
    "\n",
    "val rdd1 = sc.parallelize(List(1,2,3,4))\n",
    "\n",
    "val maprdd1 = rdd1.map(x => x + 5)"
   ]
  },
  {
   "cell_type": "code",
   "execution_count": 1,
   "metadata": {},
   "outputs": [
    {
     "ename": "",
     "evalue": "",
     "output_type": "error",
     "traceback": [
      "Compilation Failed",
      "\u001b[31mMain.scala:49: not found: value spark\r",
      "spark.read.avro(\"C:/Users/User/Avro/DNAC test30-2.avro\") \r",
      "^\u001b[0m"
     ]
    }
   ],
   "source": [
    " val df = spark.read.avro(\"C:/Users/User/Avro/DNAC test30-2.avro\")\n",
    "    df.printSchema()\n",
    "    df.count()\n",
    "    df.show()"
   ]
  },
  {
   "cell_type": "code",
   "execution_count": 1,
   "metadata": {},
   "outputs": [
    {
     "ename": "",
     "evalue": "",
     "output_type": "error",
     "traceback": [
      "Compilation Failed",
      "\u001b[31mMain.scala:48: object apache is not a member of package org\r",
      "                import org.apache.spark.SparkConf ; import org.apache.spark.streaming.StreamingContext ; import org.apache.spark.streaming.Seconds ; import twitter4j.conf.ConfigurationBuilder ; import twitter4j.auth.OAuthAuthorization ; import twitter4j.Status ; import org.apache.spark.streaming.twitter.TwitterUtils ; object TwitterData {\r",
      "                           ^\u001b[0m",
      "\u001b[31mMain.scala:48: object apache is not a member of package org\r",
      "                import org.apache.spark.SparkConf ; import org.apache.spark.streaming.StreamingContext ; import org.apache.spark.streaming.Seconds ; import twitter4j.conf.ConfigurationBuilder ; import twitter4j.auth.OAuthAuthorization ; import twitter4j.Status ; import org.apache.spark.streaming.twitter.TwitterUtils ; object TwitterData {\r",
      "                                                               ^\u001b[0m",
      "\u001b[31mMain.scala:48: object apache is not a member of package org\r",
      "                import org.apache.spark.SparkConf ; import org.apache.spark.streaming.StreamingContext ; import org.apache.spark.streaming.Seconds ; import twitter4j.conf.ConfigurationBuilder ; import twitter4j.auth.OAuthAuthorization ; import twitter4j.Status ; import org.apache.spark.streaming.twitter.TwitterUtils ; object TwitterData {\r",
      "                                                                                                                    ^\u001b[0m",
      "\u001b[31mMain.scala:48: not found: value twitter4j\r",
      "                import org.apache.spark.SparkConf ; import org.apache.spark.streaming.StreamingContext ; import org.apache.spark.streaming.Seconds ; import twitter4j.conf.ConfigurationBuilder ; import twitter4j.auth.OAuthAuthorization ; import twitter4j.Status ; import org.apache.spark.streaming.twitter.TwitterUtils ; object TwitterData {\r",
      "                                                                                                                                                            ^\u001b[0m",
      "\u001b[31mMain.scala:48: not found: value twitter4j\r",
      "                import org.apache.spark.SparkConf ; import org.apache.spark.streaming.StreamingContext ; import org.apache.spark.streaming.Seconds ; import twitter4j.conf.ConfigurationBuilder ; import twitter4j.auth.OAuthAuthorization ; import twitter4j.Status ; import org.apache.spark.streaming.twitter.TwitterUtils ; object TwitterData {\r",
      "                                                                                                                                                                                                         ^\u001b[0m",
      "\u001b[31mMain.scala:48: not found: value twitter4j\r",
      "                import org.apache.spark.SparkConf ; import org.apache.spark.streaming.StreamingContext ; import org.apache.spark.streaming.Seconds ; import twitter4j.conf.ConfigurationBuilder ; import twitter4j.auth.OAuthAuthorization ; import twitter4j.Status ; import org.apache.spark.streaming.twitter.TwitterUtils ; object TwitterData {\r",
      "                                                                                                                                                                                                                                                    ^\u001b[0m",
      "\u001b[31mMain.scala:48: object apache is not a member of package org\r",
      "                import org.apache.spark.SparkConf ; import org.apache.spark.streaming.StreamingContext ; import org.apache.spark.streaming.Seconds ; import twitter4j.conf.ConfigurationBuilder ; import twitter4j.auth.OAuthAuthorization ; import twitter4j.Status ; import org.apache.spark.streaming.twitter.TwitterUtils ; object TwitterData {\r",
      "                                                                                                                                                                                                                                                                                  ^\u001b[0m",
      "\u001b[31mMain.scala:56: not found: type SparkConf\r",
      "    val conf = new SparkConf()\r",
      "                   ^\u001b[0m",
      "\u001b[31mMain.scala:58: not found: type StreamingContext\r",
      "    val ssc = new StreamingContext(conf, Seconds(5))\r",
      "                  ^\u001b[0m",
      "\u001b[31mMain.scala:58: not found: value Seconds\r",
      "    val ssc = new StreamingContext(conf, Seconds(5))\r",
      "                                         ^\u001b[0m",
      "\u001b[31mMain.scala:61: not found: type ConfigurationBuilder\r",
      "    val cb = new ConfigurationBuilder\r",
      "                 ^\u001b[0m",
      "\u001b[31mMain.scala:66: not found: type OAuthAuthorization\r",
      "    val auth = new OAuthAuthorization(cb.build)\r",
      "                   ^\u001b[0m",
      "\u001b[31mMain.scala:67: not found: value TwitterUtils\r",
      "    val tweets = TwitterUtils.createStream(ssc, Some(auth))\r",
      "                 ^\u001b[0m"
     ]
    }
   ],
   "source": [
    "import org.apache.spark.SparkConf\n",
    "import org.apache.spark.streaming.StreamingContext\n",
    "import org.apache.spark.streaming.Seconds\n",
    "import twitter4j.conf.ConfigurationBuilder\n",
    "import twitter4j.auth.OAuthAuthorization\n",
    "import twitter4j.Status\n",
    "import org.apache.spark.streaming.twitter.TwitterUtils\n",
    "object TwitterData {\n",
    "  def main(args: Array[String]) {\n",
    "    if (args.length < 4) {\n",
    "      System.err.println(\"Usage: TwitterData <ConsumerKey><ConsumerSecret><accessToken><accessTokenSecret>\" +\n",
    "        \"[<filters>]\")\n",
    "      System.exit(1)\n",
    "    }\n",
    "    val appName = \"TwitterData\"\n",
    "    val conf = new SparkConf()\n",
    "    conf.setAppName(appName).setMaster(\"local[3]\")\n",
    "    val ssc = new StreamingContext(conf, Seconds(5))\n",
    "    val Array(consumerKey, consumerSecret, accessToken, accessTokenSecret) = args.take(4)\n",
    "    val filters = args.takeRight(args.length - 4)\n",
    "    val cb = new ConfigurationBuilder\n",
    "    cb.setDebugEnabled(true).setOAuthConsumerKey(consumerKey)\n",
    "      .setOAuthConsumerSecret(consumerSecret)\n",
    "      .setOAuthAccessToken(accessToken)\n",
    "      .setOAuthAccessTokenSecret(accessTokenSecret)\n",
    "    val auth = new OAuthAuthorization(cb.build)\n",
    "    val tweets = TwitterUtils.createStream(ssc, Some(auth))\n",
    "    val englishTweets = tweets.filter(_.getLang() == \"en\")\n",
    "    englishTweets .saveAsTextFiles(\"tweets\", \"json\")\n",
    "    ssc.start()\n",
    "    ssc.awaitTermination()\n",
    "  }\n",
    "}\n"
   ]
  }
 ],
 "metadata": {
  "kernelspec": {
   "display_name": "Scala 2.11",
   "language": "scala211",
   "name": "scala211"
  },
  "language_info": {
   "codemirror_mode": "text/x-scala",
   "file_extension": ".scala",
   "mimetype": "text/x-scala",
   "name": "scala211",
   "pygments_lexer": "scala",
   "version": "2.11.6"
  }
 },
 "nbformat": 4,
 "nbformat_minor": 2
}
